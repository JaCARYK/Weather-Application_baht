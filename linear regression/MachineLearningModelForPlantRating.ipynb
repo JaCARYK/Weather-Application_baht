{
 "cells": [
  {
   "cell_type": "code",
   "execution_count": 1,
   "id": "d88ecc5b",
   "metadata": {},
   "outputs": [],
   "source": [
    "import pandas as pd\n",
    "import requests\n",
    "import json\n",
    "import io\n",
    "import numpy as np\n",
    "import pandas as pd\n",
    "import matplotlib.pyplot as plt\n",
    "from sklearn.linear_model import LinearRegression"
   ]
  },
  {
   "cell_type": "code",
   "execution_count": 2,
   "id": "3f135cf5",
   "metadata": {},
   "outputs": [],
   "source": [
    "ideal_plant_temp = {'Lettuce':62.5, 'Lemon Grass':80,'Tulsi Basil':75}\n",
    "ideal_plant_humidity = {'Lettuce':60, 'Lemon Grass':55,'Tulsi Basil':50}\n",
    "ideal_plant_sunlight = {'Lettuce':4, 'Lemon Grass':5,'Tulsi Basil':7}\n",
    "\n"
   ]
  },
  {
   "cell_type": "code",
   "execution_count": 3,
   "id": "0ddcddc3",
   "metadata": {
    "scrolled": true
   },
   "outputs": [],
   "source": [
    "raw_content_url = 'https://raw.githubusercontent.com/JaCARYK/Weather-Application_baht/main/linear%20regression/weather_data.csv'\n",
    "data = requests.get(raw_content_url)\n",
    "\n",
    "#data = pd.read_csv('/Users/jacobkadari/Documents/GitHub/Weather-Application_baht/weather_data.csv')\n",
    "#data.head()\n"
   ]
  },
  {
   "cell_type": "code",
   "execution_count": 4,
   "id": "327d3fa7",
   "metadata": {},
   "outputs": [
    {
     "ename": "AttributeError",
     "evalue": "'Response' object has no attribute 'drop'",
     "output_type": "error",
     "traceback": [
      "\u001b[0;31m---------------------------------------------------------------------------\u001b[0m",
      "\u001b[0;31mAttributeError\u001b[0m                            Traceback (most recent call last)",
      "\u001b[1;32m/Users/jacobkadari/Documents/GitHub/Weather-Application_baht/linear regression/MachineLearningModelForPlantRating.ipynb Cell 4\u001b[0m line \u001b[0;36m1\n\u001b[0;32m----> <a href='vscode-notebook-cell:/Users/jacobkadari/Documents/GitHub/Weather-Application_baht/linear%20regression/MachineLearningModelForPlantRating.ipynb#W3sZmlsZQ%3D%3D?line=0'>1</a>\u001b[0m x \u001b[39m=\u001b[39m data\u001b[39m.\u001b[39mdrop([\u001b[39m'\u001b[39m\u001b[39mRating\u001b[39m\u001b[39m'\u001b[39m,\u001b[39m'\u001b[39m\u001b[39mDate\u001b[39m\u001b[39m'\u001b[39m],axis\u001b[39m=\u001b[39m\u001b[39m1\u001b[39m)\u001b[39m.\u001b[39mvalues\n\u001b[1;32m      <a href='vscode-notebook-cell:/Users/jacobkadari/Documents/GitHub/Weather-Application_baht/linear%20regression/MachineLearningModelForPlantRating.ipynb#W3sZmlsZQ%3D%3D?line=1'>2</a>\u001b[0m y\u001b[39m=\u001b[39m data[\u001b[39m'\u001b[39m\u001b[39mRating\u001b[39m\u001b[39m'\u001b[39m]\u001b[39m.\u001b[39mvalues\n",
      "\u001b[0;31mAttributeError\u001b[0m: 'Response' object has no attribute 'drop'"
     ]
    }
   ],
   "source": [
    "x = data.drop(['Rating','Date'],axis=1).values\n",
    "y= data['Rating'].values\n",
    "\n"
   ]
  },
  {
   "cell_type": "code",
   "execution_count": 10,
   "id": "80037def",
   "metadata": {},
   "outputs": [
    {
     "name": "stdout",
     "output_type": "stream",
     "text": [
      "[[65 45 60  8]\n",
      " [68 48 55  9]\n",
      " [70 50 50 10]\n",
      " [72 52 45 10]\n",
      " [75 55 40 11]\n",
      " [78 58 35 12]\n",
      " [80 60 30 11]\n",
      " [78 58 35 10]\n",
      " [75 55 40  9]\n",
      " [72 52 45  8]\n",
      " [70 50 50  8]\n",
      " [68 48 55  7]\n",
      " [65 45 60  7]\n",
      " [62 42 65  6]\n",
      " [60 40 70  6]\n",
      " [58 38 75  5]\n",
      " [55 35 80  5]\n",
      " [52 32 85  4]\n",
      " [50 30 90  4]\n",
      " [48 28 95  3]\n",
      " [45 25 92  3]\n",
      " [42 22 88  3]\n",
      " [40 20 85  2]\n",
      " [38 18 82  2]\n",
      " [35 15 78  2]\n",
      " [32 12 75  1]\n",
      " [30 10 72  1]\n",
      " [28  8 70  1]\n",
      " [25  6 68  1]\n",
      " [22  4 65  1]\n",
      " [20  2 62  1]]\n"
     ]
    }
   ],
   "source": [
    "\n",
    "print(x)"
   ]
  },
  {
   "cell_type": "code",
   "execution_count": 11,
   "id": "59ff7b0a",
   "metadata": {},
   "outputs": [
    {
     "name": "stdout",
     "output_type": "stream",
     "text": [
      "[62.73584906 62.26415094 61.32075472 59.90566038 59.43396226 58.96226415\n",
      " 57.0754717  58.01886792 58.49056604 58.96226415 60.37735849 61.32075472\n",
      " 62.26415094 62.73584906 64.1509434  65.09433962 66.03773585 66.50943396\n",
      " 67.9245283  68.86792453 66.03773585 62.73584906 59.90566038 57.54716981\n",
      " 54.24528302 50.94339623 48.58490566 46.69811321 44.33962264 41.50943396\n",
      " 39.1509434 ]\n"
     ]
    }
   ],
   "source": [
    "print(y)"
   ]
  },
  {
   "cell_type": "code",
   "execution_count": 12,
   "id": "7a280343",
   "metadata": {},
   "outputs": [],
   "source": [
    "from sklearn.model_selection import train_test_split\n",
    "x_train,x_test,y_train,y_test=train_test_split(x,y,test_size=0.3,random_state=0)\n"
   ]
  },
  {
   "cell_type": "code",
   "execution_count": 13,
   "id": "1462b4cb",
   "metadata": {},
   "outputs": [
    {
     "data": {
      "text/html": [
       "<style>#sk-container-id-1 {color: black;}#sk-container-id-1 pre{padding: 0;}#sk-container-id-1 div.sk-toggleable {background-color: white;}#sk-container-id-1 label.sk-toggleable__label {cursor: pointer;display: block;width: 100%;margin-bottom: 0;padding: 0.3em;box-sizing: border-box;text-align: center;}#sk-container-id-1 label.sk-toggleable__label-arrow:before {content: \"▸\";float: left;margin-right: 0.25em;color: #696969;}#sk-container-id-1 label.sk-toggleable__label-arrow:hover:before {color: black;}#sk-container-id-1 div.sk-estimator:hover label.sk-toggleable__label-arrow:before {color: black;}#sk-container-id-1 div.sk-toggleable__content {max-height: 0;max-width: 0;overflow: hidden;text-align: left;background-color: #f0f8ff;}#sk-container-id-1 div.sk-toggleable__content pre {margin: 0.2em;color: black;border-radius: 0.25em;background-color: #f0f8ff;}#sk-container-id-1 input.sk-toggleable__control:checked~div.sk-toggleable__content {max-height: 200px;max-width: 100%;overflow: auto;}#sk-container-id-1 input.sk-toggleable__control:checked~label.sk-toggleable__label-arrow:before {content: \"▾\";}#sk-container-id-1 div.sk-estimator input.sk-toggleable__control:checked~label.sk-toggleable__label {background-color: #d4ebff;}#sk-container-id-1 div.sk-label input.sk-toggleable__control:checked~label.sk-toggleable__label {background-color: #d4ebff;}#sk-container-id-1 input.sk-hidden--visually {border: 0;clip: rect(1px 1px 1px 1px);clip: rect(1px, 1px, 1px, 1px);height: 1px;margin: -1px;overflow: hidden;padding: 0;position: absolute;width: 1px;}#sk-container-id-1 div.sk-estimator {font-family: monospace;background-color: #f0f8ff;border: 1px dotted black;border-radius: 0.25em;box-sizing: border-box;margin-bottom: 0.5em;}#sk-container-id-1 div.sk-estimator:hover {background-color: #d4ebff;}#sk-container-id-1 div.sk-parallel-item::after {content: \"\";width: 100%;border-bottom: 1px solid gray;flex-grow: 1;}#sk-container-id-1 div.sk-label:hover label.sk-toggleable__label {background-color: #d4ebff;}#sk-container-id-1 div.sk-serial::before {content: \"\";position: absolute;border-left: 1px solid gray;box-sizing: border-box;top: 0;bottom: 0;left: 50%;z-index: 0;}#sk-container-id-1 div.sk-serial {display: flex;flex-direction: column;align-items: center;background-color: white;padding-right: 0.2em;padding-left: 0.2em;position: relative;}#sk-container-id-1 div.sk-item {position: relative;z-index: 1;}#sk-container-id-1 div.sk-parallel {display: flex;align-items: stretch;justify-content: center;background-color: white;position: relative;}#sk-container-id-1 div.sk-item::before, #sk-container-id-1 div.sk-parallel-item::before {content: \"\";position: absolute;border-left: 1px solid gray;box-sizing: border-box;top: 0;bottom: 0;left: 50%;z-index: -1;}#sk-container-id-1 div.sk-parallel-item {display: flex;flex-direction: column;z-index: 1;position: relative;background-color: white;}#sk-container-id-1 div.sk-parallel-item:first-child::after {align-self: flex-end;width: 50%;}#sk-container-id-1 div.sk-parallel-item:last-child::after {align-self: flex-start;width: 50%;}#sk-container-id-1 div.sk-parallel-item:only-child::after {width: 0;}#sk-container-id-1 div.sk-dashed-wrapped {border: 1px dashed gray;margin: 0 0.4em 0.5em 0.4em;box-sizing: border-box;padding-bottom: 0.4em;background-color: white;}#sk-container-id-1 div.sk-label label {font-family: monospace;font-weight: bold;display: inline-block;line-height: 1.2em;}#sk-container-id-1 div.sk-label-container {text-align: center;}#sk-container-id-1 div.sk-container {/* jupyter's `normalize.less` sets `[hidden] { display: none; }` but bootstrap.min.css set `[hidden] { display: none !important; }` so we also need the `!important` here to be able to override the default hidden behavior on the sphinx rendered scikit-learn.org. See: https://github.com/scikit-learn/scikit-learn/issues/21755 */display: inline-block !important;position: relative;}#sk-container-id-1 div.sk-text-repr-fallback {display: none;}</style><div id=\"sk-container-id-1\" class=\"sk-top-container\"><div class=\"sk-text-repr-fallback\"><pre>LinearRegression()</pre><b>In a Jupyter environment, please rerun this cell to show the HTML representation or trust the notebook. <br />On GitHub, the HTML representation is unable to render, please try loading this page with nbviewer.org.</b></div><div class=\"sk-container\" hidden><div class=\"sk-item\"><div class=\"sk-estimator sk-toggleable\"><input class=\"sk-toggleable__control sk-hidden--visually\" id=\"sk-estimator-id-1\" type=\"checkbox\" checked><label for=\"sk-estimator-id-1\" class=\"sk-toggleable__label sk-toggleable__label-arrow\">LinearRegression</label><div class=\"sk-toggleable__content\"><pre>LinearRegression()</pre></div></div></div></div></div>"
      ],
      "text/plain": [
       "LinearRegression()"
      ]
     },
     "execution_count": 13,
     "metadata": {},
     "output_type": "execute_result"
    }
   ],
   "source": [
    "from sklearn.linear_model import LinearRegression\n",
    "ml=LinearRegression()\n",
    "ml.fit(x_train,y_train)\n"
   ]
  },
  {
   "cell_type": "code",
   "execution_count": 14,
   "id": "b3c4bbe1",
   "metadata": {},
   "outputs": [
    {
     "name": "stdout",
     "output_type": "stream",
     "text": [
      "[61.32075472 41.50943396 62.73584906 60.37735849 46.69811321 50.94339623\n",
      " 59.90566038 61.32075472 66.50943396 57.54716981]\n"
     ]
    }
   ],
   "source": [
    "y_pred = ml.predict(x_test)\n",
    "print(y_pred)"
   ]
  },
  {
   "cell_type": "code",
   "execution_count": 15,
   "id": "83f77821",
   "metadata": {},
   "outputs": [
    {
     "data": {
      "text/plain": [
       "array([82.54716983])"
      ]
     },
     "execution_count": 15,
     "metadata": {},
     "output_type": "execute_result"
    }
   ],
   "source": [
    "ml.predict([[85,75,80,10]])\n"
   ]
  },
  {
   "cell_type": "code",
   "execution_count": 16,
   "id": "775db9a2",
   "metadata": {},
   "outputs": [
    {
     "data": {
      "text/plain": [
       "1.0"
      ]
     },
     "execution_count": 16,
     "metadata": {},
     "output_type": "execute_result"
    }
   ],
   "source": [
    "from sklearn.metrics import r2_score\n",
    "r2_score(y_test,y_pred)\n"
   ]
  },
  {
   "cell_type": "code",
   "execution_count": 17,
   "id": "e82de2f3",
   "metadata": {},
   "outputs": [
    {
     "name": "stdout",
     "output_type": "stream",
     "text": [
      "Lettuce Base Score: 60.84905662344657\n",
      "Lemon Grass Base Score: 68.39622642764294\n",
      "Lettuce Tulsi Basil Score: 64.6226415221305\n"
     ]
    }
   ],
   "source": [
    "\n",
    "Ideal_Lettuce_Score = ml.predict([[65,60,60,4]])\n",
    "Ideal_LemonGrass_Score= ml.predict([[85,75,55,5]])\n",
    "Ideal_TulsiBasil_Score= ml.predict([[80,70,50,7]])\n",
    "\n",
    "print('Lettuce Base Score:',Ideal_Lettuce_Score[0])\n",
    "print('Lemon Grass Base Score:',Ideal_LemonGrass_Score[0])\n",
    "print('Lettuce Tulsi Basil Score:',Ideal_TulsiBasil_Score[0])\n",
    "\n",
    "ml.predict([[85,75,80,10]])\n",
    "one=ml.predict([[58,52,90,1]])\n",
    "two=ml.predict([[60,48,87,2]])\n",
    "three=ml.predict([[61,50,83,5]])\n",
    "four=ml.predict([[56,50,90,2]])\n",
    "five=ml.predict([[62,50,88,1]])\n",
    "six=ml.predict([[64,50,78,2]])\n",
    "sevin=ml.predict([[68,49,68,1]])\n",
    "eight=ml.predict([[71,50,66,4]])\n",
    "Nine=ml.predict([[69,49,68,6]])\n",
    "ten=ml.predict([[70,49,75,2]])\n",
    "\n",
    "class final_percent():\n",
    "    def init(self, temp_percent):\n",
    "        self.temp_percent=temp_percent\n",
    "    def score(self):\n",
    "        return Ideal_Lettuce_Score/self.temp_percent, Ideal_LemonGrass_Score/self.temp_percent, Ideal_TulsiBasil_Score/self.temp_percent\n",
    "\n",
    "\n",
    "\n"
   ]
  },
  {
   "cell_type": "code",
   "execution_count": null,
   "id": "ae64aefd",
   "metadata": {},
   "outputs": [],
   "source": [
    "temphigh=#csv file data for today\n",
    "lowtemp=\n",
    "humidity=\n",
    "sunlight=\n",
    "\n",
    "ml.predict([temphigh,lowtemp,humidity,sunlight])"
   ]
  }
 ],
 "metadata": {
  "kernelspec": {
   "display_name": "Python 3 (ipykernel)",
   "language": "python",
   "name": "python3"
  },
  "language_info": {
   "codemirror_mode": {
    "name": "ipython",
    "version": 3
   },
   "file_extension": ".py",
   "mimetype": "text/x-python",
   "name": "python",
   "nbconvert_exporter": "python",
   "pygments_lexer": "ipython3",
   "version": "3.11.4"
  }
 },
 "nbformat": 4,
 "nbformat_minor": 5
}
